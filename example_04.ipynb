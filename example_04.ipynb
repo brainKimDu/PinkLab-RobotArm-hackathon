{
 "cells": [
  {
   "cell_type": "code",
   "execution_count": 1,
   "id": "9488164f",
   "metadata": {},
   "outputs": [],
   "source": [
    "# 라이브러리 불러오기\n",
    "import threading\n",
    "import cv2\n",
    "import math\n",
    "import numpy as np\n",
    "import matplotlib.pyplot as plt\n",
    "\n",
    "from time import sleep\n",
    "# from yolov3.detect_custom import run_yolo\n",
    "from pose_ArUCo.pose_estimation import run_aruco\n",
    "from pose_ArUCo.detect_aruco_images import detect_marker\n",
    "from dobot_api import DobotApiDashboard, DobotApi, DobotApiMove, MyType\n",
    "from rotate import transform_cam_to_robot"
   ]
  },
  {
   "cell_type": "code",
   "execution_count": null,
   "id": "578e5d7d",
   "metadata": {},
   "outputs": [],
   "source": [
    "# yolo 물체 검출 결과 얻어오기\n",
    "# 입력 : None\n",
    "# 출력 : 검출된 물체의 (색상, 모양, 검출 박스의 중앙 x, y 좌표)\n",
    "def get_yolo_results():\n",
    "    # 물체 정보\n",
    "    c_dict = {'0': 'red', '1': 'yellow', '2': 'green'}               # 색상\n",
    "    s_dict = {'0': 'Hexagonal_Prism', '1': 'Cylinder', '2': 'Cube'}  # 모양\n",
    "\n",
    "    # YOLO 기반 물체 검출 \n",
    "    result, imc = run_yolo()    # result : YOLO 물체 검출 결과 정보\n",
    "    result_list = []            # imc : 원본 이미지 (aruco 마커 검출용)\n",
    "\n",
    "    # 물체 검출 결과 전처리\n",
    "    for boxes in result:\n",
    "        w = float(boxes.split()[-2])\n",
    "        h = float(boxes.split()[-1])\n",
    "\n",
    "        for i, v in enumerate(boxes.split()):\n",
    "            # 색상, 모양 정보\n",
    "            if i == 0:\n",
    "                color = c_dict[v]\n",
    "                shape = s_dict[v]\n",
    "\n",
    "            # 검출된 박스의 중앙 x 좌표 (0~1 정규화 값 -> 이미지 픽셀 값으로 보정)\n",
    "            elif i == 1:\n",
    "                x = int(float(v) * w)\n",
    "\n",
    "            # 검출된 박스의 중앙 y 좌표 (0~1 정규화 값 -> 이미지 픽셀 값으로 보정)\n",
    "            elif i == 2:\n",
    "                y = int(float(v) * h)\n",
    "\n",
    "        result_list.append([color, shape, x, y])\n",
    "\n",
    "    return result_list"
   ]
  },
  {
   "cell_type": "code",
   "execution_count": 2,
   "id": "78e027a0",
   "metadata": {},
   "outputs": [],
   "source": [
    "# 전역 변수 (현재 좌표)\n",
    "current_actual = None\n",
    "\n",
    "# PC-로봇 연결 함수 (TCP/IP 통신)\n",
    "def connect_robot(ip):\n",
    "    try:\n",
    "        dashboard_p = 29999\n",
    "        move_p = 30003\n",
    "        feed_p = 30004\n",
    "        print(\"연결 설정 중...\")\n",
    "\n",
    "        dashboard = DobotApiDashboard(ip, dashboard_p)\n",
    "        move = DobotApiMove(ip, move_p)\n",
    "        feed = DobotApi(ip, feed_p)\n",
    "        print(\"연결 성공!!\")\n",
    "\n",
    "        return dashboard, move, feed\n",
    "\n",
    "    except Exception as e:\n",
    "        print(\":연결 실패ㅜㅜ\")\n",
    "        raise e"
   ]
  },
  {
   "cell_type": "code",
   "execution_count": 3,
   "id": "77909e03",
   "metadata": {},
   "outputs": [],
   "source": [
    "# 로봇 에러 메시지 초기화 함수\n",
    "def robot_clear(dashboard : DobotApiDashboard):\n",
    "    dashboard.ClearError()\n",
    "\n",
    "# 로봇 속도 조절 함수 (speed_value : 1~100)\n",
    "def robot_speed(dashboard : DobotApiDashboard, speed_value):\n",
    "    dashboard.SpeedFactor(speed_value)\n",
    "\n",
    "# 그리퍼 구동 함수 (status 0 -> OFF, 1-> ON)\n",
    "def gripper_DO(dashboard : DobotApiDashboard, index, status):\n",
    "    dashboard.ToolDO(index, status)\n",
    "\n",
    "# 현재 로봇 위치 받아오기 (로봇 베이스 좌표계 기준)\n",
    "def get_Pose(dashboard : DobotApiDashboard):\n",
    "    dashboard.GetPose()"
   ]
  },
  {
   "cell_type": "code",
   "execution_count": 4,
   "id": "4405c228",
   "metadata": {},
   "outputs": [],
   "source": [
    "# 로봇 구동 함수 (현재 위치 -> 목표 위치(point_list))\n",
    "def run_point(move: DobotApiMove, point_list: list):\n",
    "    move.MovL(point_list[0], point_list[1], point_list[2], point_list[3])\n",
    "    \n",
    "def get_feed(feed: DobotApi):\n",
    "    global current_actual\n",
    "    hasRead = 0\n",
    "\n",
    "    while True:\n",
    "        data = bytes()\n",
    "        while hasRead < 1440:\n",
    "            temp = feed.socket_dobot.recv(1440 - hasRead)\n",
    "            if len(temp) > 0:\n",
    "                hasRead += len(temp)\n",
    "                data += temp\n",
    "        hasRead = 0\n",
    "        a = np.frombuffer(data, dtype=MyType)\n",
    "\n",
    "        if hex((a['test_value'][0])) == '0x123456789abcdef':\n",
    "            current_actual = a[\"tool_vector_actual\"][0]     # Refresh Properties\n",
    "        sleep(0.001)"
   ]
  },
  {
   "cell_type": "code",
   "execution_count": 5,
   "id": "c49d9456",
   "metadata": {},
   "outputs": [],
   "source": [
    "### 입력 파라미터 #################################################################################\n",
    "ip = \"192.168.1.6\"                  # Robot의 IP 주소\n",
    "speed_value = 10                    # 로봇 속도 (1~100 사이의 값 입력)\n",
    "gripper_port = 1                    # 그리퍼 포트 번호\n",
    "point_home = [150, 200, 100, 180]   # 로봇의 초기 좌표 (x, y, z, yaw)      \n",
    "point_mid = [245, -7, 55, 0]\n",
    "\n",
    "goal = \"Hexagonal_Prism\"            # 목표 물체 유형 (Hexagonal_Prism | Cylinder | Cube)\n",
    "target_point = []                   # 목표 물체에 대한 박스 정보 (중앙 x, y 좌표)\n",
    "goal_index = 0\n",
    "goal_point = [0, 0, 0]              # 목표 물체에 대한 x, y, z 좌표 (카메라 좌표계 기준)\n",
    "###################################################################################################"
   ]
  },
  {
   "cell_type": "code",
   "execution_count": null,
   "id": "6ba123fc",
   "metadata": {},
   "outputs": [],
   "source": [
    "# YOLO 기반 물체 검출 -> 물체 색상, 모양, 박스의 중앙 좌표 얻어오기\n",
    "result_list = get_yolo_results()\n",
    "\n",
    "print(f\"result_list : {result_list}\")"
   ]
  },
  {
   "cell_type": "code",
   "execution_count": null,
   "id": "f1531843",
   "metadata": {},
   "outputs": [],
   "source": [
    "# 웹캠 이미지 받아오기\n",
    "cap_1 = cv2.VideoCapture(0)\n",
    "ret_1, img_1 = cap_1.read()\n",
    "\n",
    "# 웹캠 이미지를 RGB로 변환\n",
    "img_rgb_1 = cv2.cvtColor(img_1, cv2.COLOR_BGR2RGB)"
   ]
  },
  {
   "cell_type": "code",
   "execution_count": null,
   "id": "a0d79d82",
   "metadata": {},
   "outputs": [],
   "source": [
    "# set goal point\n",
    "rvec_goal, tvec_goal, corners_goal = run_aruco(img_rgb_1, \"DICT_5X5_100\")\n",
    "\n",
    "# 간단한 전처리\n",
    "tvec_goal = np.array(tvec_goal)[0][0][0]\n",
    "print(f\"pose of goal point (cam cord) : {tvec_goal}\")\n",
    "\n",
    "# 카메라 좌표계 -> 로봇 베이스 좌표계로 변환\n",
    "point_goal = transform_cam_to_robot(tvec_goal)\n",
    "point_goal"
   ]
  },
  {
   "cell_type": "code",
   "execution_count": null,
   "id": "99810dde",
   "metadata": {},
   "outputs": [],
   "source": [
    "### 오차 값 보정 ##################################################################################\n",
    "edit_goal_x = -48      # unit : mm\n",
    "edit_goal_y = -70      # unit : mm\n",
    "###################################################################################################\n",
    "\n",
    "point_goal[0] += edit_goal_x\n",
    "point_goal[1] += edit_goal_y\n",
    "\n",
    "point_goal"
   ]
  },
  {
   "cell_type": "code",
   "execution_count": null,
   "id": "727c1176",
   "metadata": {},
   "outputs": [],
   "source": [
    "# 아르코 마커로 카메라 좌표계 기준 6D pose 예측하기\n",
    "# rvec : 회전 행렬 (roll, pitch, yaw)   // unit : rads\n",
    "# tvec : 이동 행렬 (x, y, z)            // unit : meter\n",
    "# corners : 아르코 마커의 각 코너 좌표  // (x, y) 픽셀 위치\n",
    "rvec, tvec, corners = run_aruco(img_rgb_1, \"DICT_4X4_100\")\n",
    "\n",
    "# 간단한 전처리\n",
    "rvec = np.array(rvec)[0][0]\n",
    "tvec = np.array(tvec)[0][0]\n",
    "corners = np.array(corners[0][0])\n",
    "\n",
    "tvec"
   ]
  },
  {
   "cell_type": "code",
   "execution_count": null,
   "id": "7e27dffa",
   "metadata": {},
   "outputs": [],
   "source": [
    "# yolo 결과물 중 목표 물체의 중앙 좌표만 추출하기\n",
    "for i in range(0, len(result_list)):\n",
    "    if result_list[i][1] == goal:\n",
    "        print(f\"Finding Traget : {result_list[i][1]} !!\")\n",
    "        goal_index = i\n",
    "        target_point.append([result_list[i][2], result_list[i][3]])\n",
    "        \n",
    "print(f\"Target point of YOLO : {target_point}\")\n",
    "print(f\"goal_index : {goal_index}\")"
   ]
  },
  {
   "cell_type": "code",
   "execution_count": null,
   "id": "aa5f7cfb",
   "metadata": {},
   "outputs": [],
   "source": [
    "# 타겟 물체의 이동 및 회전 행렬 받아오기\n",
    "goal_pose = tvec[goal_index]\n",
    "goal_angle = rvec[goal_index]"
   ]
  },
  {
   "cell_type": "code",
   "execution_count": null,
   "id": "0a9345cd",
   "metadata": {},
   "outputs": [],
   "source": [
    "# 타겟 물체의 좌표 및 각도 출력 (카메라 좌표계 기준)\n",
    "goal_pose[0] = np.round(goal_pose[0], 4)\n",
    "goal_pose[1] = np.round(goal_pose[1], 4)\n",
    "goal_pose[2] = np.round(goal_pose[2], 4)\n",
    "yaw_angle_by_cam = np.round(goal_angle[-1], 4)\n",
    "\n",
    "print(f\"x based camera cordinate: {goal_pose[0]} meter\")\n",
    "print(f\"y based camera cordinate: {goal_pose[1]} meter\")\n",
    "print(f\"z based camera cordinate: {goal_pose[2]} meter\")\n",
    "print(f\"yaw_angle_by_cam : {yaw_angle_by_cam} rads\")"
   ]
  },
  {
   "cell_type": "code",
   "execution_count": null,
   "id": "c738ddd3",
   "metadata": {},
   "outputs": [],
   "source": [
    "### 오차 값 보정 ##################################################################################\n",
    "edit_x = -49.4    # unit : mm\n",
    "edit_y = -25.9    # unit : mm\n",
    "###################################################################################################\n",
    "\n",
    "# 카메라 좌표계 -> 로봇 베이스 좌표계로 변환\n",
    "point_grip = transform_cam_to_robot(goal_pose)\n",
    "\n",
    "# 오차 보정 (로봇 베이스 좌표계 기준)\n",
    "point_grip[0] = round(point_grip[0] + edit_x, 4)\n",
    "point_grip[1] = round(point_grip[1] + edit_y, 4)\n",
    "\n",
    "# 고정 값\n",
    "yaw_angle_by_robot = 0\n",
    "point_grip[2] = -55.5\n",
    "\n",
    "# yaw 변환 각도 값 추가\n",
    "point_grip = np.append(point_grip, yaw_angle_by_robot)\n",
    "point_goal = np.append(point_goal, yaw_angle_by_robot)\n",
    "print(f\"x pose by robot : {point_grip[0]} mm\")\n",
    "print(f\"y pose by robot : {point_grip[1]} mm\")\n",
    "print(f\"z pose by robot : {point_grip[2]} mm\")\n",
    "print(f\"yaw angle by robot : {point_grip[3]} degree\")"
   ]
  },
  {
   "cell_type": "code",
   "execution_count": 31,
   "id": "bdae075b",
   "metadata": {},
   "outputs": [
    {
     "name": "stdout",
     "output_type": "stream",
     "text": [
      "연결 설정 중...\n",
      "연결 성공!!\n",
      "Send to 192.168.1.6:29999: EnableRobot()\n",
      "Receive from 192.168.1.6:29999: 0,{},EnableRobot();\n",
      "이제 로봇을 사용할 수 있습니다!\n"
     ]
    },
    {
     "name": "stderr",
     "output_type": "stream",
     "text": [
      "/tmp/ipykernel_35172/2390342575.py:8: DeprecationWarning: setDaemon() is deprecated, set the daemon attribute instead\n",
      "  feed_thread.setDaemon(True)\n"
     ]
    }
   ],
   "source": [
    "# 로봇 연결\n",
    "dashboard, move, feed = connect_robot(ip)\n",
    "dashboard.EnableRobot()\n",
    "print(\"이제 로봇을 사용할 수 있습니다!\")\n",
    "\n",
    "# 쓰레드 설정\n",
    "feed_thread = threading.Thread(target=get_feed, args=(feed,))\n",
    "feed_thread.setDaemon(True)\n",
    "feed_thread.start()"
   ]
  },
  {
   "cell_type": "code",
   "execution_count": 30,
   "id": "e89c4da9",
   "metadata": {},
   "outputs": [
    {
     "name": "stdout",
     "output_type": "stream",
     "text": [
      "Send to 192.168.1.6:29999: ClearError()\n"
     ]
    },
    {
     "ename": "BrokenPipeError",
     "evalue": "[Errno 32] Broken pipe",
     "output_type": "error",
     "traceback": [
      "\u001b[0;31m---------------------------------------------------------------------------\u001b[0m",
      "\u001b[0;31mBrokenPipeError\u001b[0m                           Traceback (most recent call last)",
      "Cell \u001b[0;32mIn[30], line 2\u001b[0m\n\u001b[1;32m      1\u001b[0m \u001b[38;5;66;03m# 로봇 상태 초기화 1 : 로봇 에러 메시지 초기화\u001b[39;00m\n\u001b[0;32m----> 2\u001b[0m \u001b[43mrobot_clear\u001b[49m\u001b[43m(\u001b[49m\u001b[43mdashboard\u001b[49m\u001b[43m)\u001b[49m \n\u001b[1;32m      4\u001b[0m \u001b[38;5;66;03m# 로봇 상태 초기화 2 : 로봇 속도 조절\u001b[39;00m\n\u001b[1;32m      5\u001b[0m robot_speed(dashboard, speed_value)\n",
      "Cell \u001b[0;32mIn[3], line 3\u001b[0m, in \u001b[0;36mrobot_clear\u001b[0;34m(dashboard)\u001b[0m\n\u001b[1;32m      2\u001b[0m \u001b[38;5;28;01mdef\u001b[39;00m \u001b[38;5;21mrobot_clear\u001b[39m(dashboard : DobotApiDashboard):\n\u001b[0;32m----> 3\u001b[0m     \u001b[43mdashboard\u001b[49m\u001b[38;5;241;43m.\u001b[39;49m\u001b[43mClearError\u001b[49m\u001b[43m(\u001b[49m\u001b[43m)\u001b[49m\n",
      "File \u001b[0;32m~/Documents/Dobot/dobot_api.py:155\u001b[0m, in \u001b[0;36mDobotApiDashboard.ClearError\u001b[0;34m(self)\u001b[0m\n\u001b[1;32m    151\u001b[0m \u001b[38;5;250m\u001b[39m\u001b[38;5;124;03m\"\"\"\u001b[39;00m\n\u001b[1;32m    152\u001b[0m \u001b[38;5;124;03mClear controller alarm information\u001b[39;00m\n\u001b[1;32m    153\u001b[0m \u001b[38;5;124;03m\"\"\"\u001b[39;00m\n\u001b[1;32m    154\u001b[0m string \u001b[38;5;241m=\u001b[39m \u001b[38;5;124m\"\u001b[39m\u001b[38;5;124mClearError()\u001b[39m\u001b[38;5;124m\"\u001b[39m\n\u001b[0;32m--> 155\u001b[0m \u001b[38;5;28;43mself\u001b[39;49m\u001b[38;5;241;43m.\u001b[39;49m\u001b[43msend_data\u001b[49m\u001b[43m(\u001b[49m\u001b[43mstring\u001b[49m\u001b[43m)\u001b[49m\n\u001b[1;32m    156\u001b[0m \u001b[38;5;28;01mreturn\u001b[39;00m \u001b[38;5;28mself\u001b[39m\u001b[38;5;241m.\u001b[39mwait_reply()\n",
      "File \u001b[0;32m~/Documents/Dobot/dobot_api.py:107\u001b[0m, in \u001b[0;36mDobotApi.send_data\u001b[0;34m(self, string)\u001b[0m\n\u001b[1;32m    105\u001b[0m \u001b[38;5;28;01mdef\u001b[39;00m \u001b[38;5;21msend_data\u001b[39m(\u001b[38;5;28mself\u001b[39m, string):\n\u001b[1;32m    106\u001b[0m     \u001b[38;5;28mself\u001b[39m\u001b[38;5;241m.\u001b[39mlog(\u001b[38;5;124mf\u001b[39m\u001b[38;5;124m\"\u001b[39m\u001b[38;5;124mSend to 192.168.1.6:\u001b[39m\u001b[38;5;132;01m{\u001b[39;00m\u001b[38;5;28mself\u001b[39m\u001b[38;5;241m.\u001b[39mport\u001b[38;5;132;01m}\u001b[39;00m\u001b[38;5;124m: \u001b[39m\u001b[38;5;132;01m{\u001b[39;00mstring\u001b[38;5;132;01m}\u001b[39;00m\u001b[38;5;124m\"\u001b[39m)\n\u001b[0;32m--> 107\u001b[0m     \u001b[38;5;28;43mself\u001b[39;49m\u001b[38;5;241;43m.\u001b[39;49m\u001b[43msocket_dobot\u001b[49m\u001b[38;5;241;43m.\u001b[39;49m\u001b[43msend\u001b[49m\u001b[43m(\u001b[49m\u001b[38;5;28;43mstr\u001b[39;49m\u001b[38;5;241;43m.\u001b[39;49m\u001b[43mencode\u001b[49m\u001b[43m(\u001b[49m\u001b[43mstring\u001b[49m\u001b[43m,\u001b[49m\u001b[43m \u001b[49m\u001b[38;5;124;43m'\u001b[39;49m\u001b[38;5;124;43mutf-8\u001b[39;49m\u001b[38;5;124;43m'\u001b[39;49m\u001b[43m)\u001b[49m\u001b[43m)\u001b[49m\n",
      "\u001b[0;31mBrokenPipeError\u001b[0m: [Errno 32] Broken pipe"
     ]
    }
   ],
   "source": [
    "# 로봇 상태 초기화 1 : 로봇 에러 메시지 초기화\n",
    "robot_clear(dashboard) \n",
    "\n",
    "# 로봇 상태 초기화 2 : 로봇 속도 조절\n",
    "robot_speed(dashboard, speed_value)\n",
    "\n",
    "# 로봇 현재 위치 받아오기 (x, y, z, yaw) - 로봇 베이스 좌표계 \n",
    "get_Pose(dashboard)"
   ]
  },
  {
   "cell_type": "code",
   "execution_count": 24,
   "id": "cc417f4b",
   "metadata": {},
   "outputs": [
    {
     "name": "stdout",
     "output_type": "stream",
     "text": [
      "Send to 192.168.1.6:30003: MovL(150.000000,200.000000,100.000000,180.000000)\n",
      "Receive from 192.168.1.6:30003: \n"
     ]
    },
    {
     "ename": "NameError",
     "evalue": "name 'point_grip' is not defined",
     "output_type": "error",
     "traceback": [
      "\u001b[0;31m---------------------------------------------------------------------------\u001b[0m",
      "\u001b[0;31mNameError\u001b[0m                                 Traceback (most recent call last)",
      "Cell \u001b[0;32mIn[24], line 6\u001b[0m\n\u001b[1;32m      3\u001b[0m sleep(\u001b[38;5;241m5\u001b[39m)\n\u001b[1;32m      5\u001b[0m \u001b[38;5;66;03m# 로봇 구동 2 (그립할 위치)\u001b[39;00m\n\u001b[0;32m----> 6\u001b[0m run_point(move, \u001b[43mpoint_grip\u001b[49m)\n\u001b[1;32m      7\u001b[0m sleep(\u001b[38;5;241m5\u001b[39m)\n\u001b[1;32m      9\u001b[0m \u001b[38;5;66;03m# 그리퍼 구동\u001b[39;00m\n",
      "\u001b[0;31mNameError\u001b[0m: name 'point_grip' is not defined"
     ]
    }
   ],
   "source": [
    "# 로봇 구동 1 (초기 위치)\n",
    "run_point(move, point_home)\n",
    "sleep(5)\n",
    "\n",
    "# 로봇 구동 2 (그립할 위치)\n",
    "run_point(move, point_grip)\n",
    "sleep(5)\n",
    "\n",
    "# 그리퍼 구동\n",
    "gripper_DO(dashboard, gripper_port, 1)\n",
    "sleep(0.1)\n",
    "\n",
    "# 로봇 구동 3 (중간 위치)\n",
    "run_point(move, point_mid)\n",
    "sleep(5)\n",
    "\n",
    "# 로봇 구동 3 (목표 위치)\n",
    "run_point(move, point_goal)\n",
    "sleep(5)\n",
    "\n",
    "# 그리퍼 끄기\n",
    "gripper_DO(dashboard, gripper_port, 0)\n",
    "sleep(0.1)\n",
    "\n",
    "# 로봇 구동 1 (초기 위치)\n",
    "run_point(move, point_home)\n",
    "sleep(5)"
   ]
  },
  {
   "cell_type": "code",
   "execution_count": 27,
   "id": "6e31bf61",
   "metadata": {},
   "outputs": [
    {
     "name": "stdout",
     "output_type": "stream",
     "text": [
      "Send to 192.168.1.6:29999: DisableRobot()\n",
      "Receive from 192.168.1.6:29999: 0,{},DisableRobot();\n"
     ]
    },
    {
     "data": {
      "text/plain": [
       "'0,{},DisableRobot();'"
      ]
     },
     "execution_count": 27,
     "metadata": {},
     "output_type": "execute_result"
    }
   ],
   "source": [
    "# 로봇 끄기\n",
    "dashboard.DisableRobot()"
   ]
  },
  {
   "cell_type": "code",
   "execution_count": 9,
   "id": "b2964d3f",
   "metadata": {},
   "outputs": [],
   "source": [
    "# 입력 파라미터\n",
    "ip = \"192.168.1.6\"              # Robot의 IP 주소\n",
    "gripper_port = 1                # 그리퍼 포트 번호\n",
    "speed_value = 10                # 로봇 속도 (1~100 사이의 값 입력)\n",
    "\n",
    "# 로봇이 이동하고자 하는 좌표 (x, y, z, yaw) unit : mm, degree\n",
    "point_home = [245, 5, 50, 115]\n",
    "point_grip = [304, 19, -56.5, 16]\n",
    "point_parse = [255, -54, -5, 115]\n",
    "\n",
    "# 303.815424,19.190886,-56.561287,16.374"
   ]
  },
  {
   "cell_type": "code",
   "execution_count": 33,
   "id": "a23e4a58",
   "metadata": {},
   "outputs": [
    {
     "name": "stdout",
     "output_type": "stream",
     "text": [
      "Send to 192.168.1.6:30003: MovL(304.000000,19.000000,-56.500000,16.000000)\n",
      "Receive from 192.168.1.6:30003: 0,{},MovL(304.000000,19.000000,-56.500000,16.000000);\n",
      "Send to 192.168.1.6:30003: MovL(245.000000,5.000000,50.000000,115.000000)\n",
      "Receive from 192.168.1.6:30003: 0,{},MovL(245.000000,5.000000,50.000000,115.000000);\n",
      "Send to 192.168.1.6:30003: MovL(304.000000,19.000000,-56.500000,16.000000)\n",
      "Receive from 192.168.1.6:30003: 0,{},MovL(304.000000,19.000000,-56.500000,16.000000);\n",
      "Send to 192.168.1.6:30003: MovL(245.000000,5.000000,50.000000,115.000000)\n",
      "Receive from 192.168.1.6:30003: 0,{},MovL(245.000000,5.000000,50.000000,115.000000);\n",
      "Send to 192.168.1.6:30003: MovL(304.000000,19.000000,-56.500000,16.000000)\n",
      "Receive from 192.168.1.6:30003: 0,{},MovL(304.000000,19.000000,-56.500000,16.000000);\n",
      "Send to 192.168.1.6:30003: MovL(245.000000,5.000000,50.000000,115.000000)\n",
      "Receive from 192.168.1.6:30003: 0,{},MovL(245.000000,5.000000,50.000000,115.000000);\n"
     ]
    }
   ],
   "source": [
    "# 로봇 구동 1 (Home)\n",
    "for i in range(3):\n",
    "    run_point(move, point_grip)\n",
    "    run_point(move, point_home)\n",
    "# wait_arrive(point_home)"
   ]
  },
  {
   "cell_type": "code",
   "execution_count": null,
   "id": "87fb099e",
   "metadata": {},
   "outputs": [],
   "source": []
  }
 ],
 "metadata": {
  "kernelspec": {
   "display_name": "Python 3 (ipykernel)",
   "language": "python",
   "name": "python3"
  },
  "language_info": {
   "codemirror_mode": {
    "name": "ipython",
    "version": 3
   },
   "file_extension": ".py",
   "mimetype": "text/x-python",
   "name": "python",
   "nbconvert_exporter": "python",
   "pygments_lexer": "ipython3",
   "version": "3.10.6"
  }
 },
 "nbformat": 4,
 "nbformat_minor": 5
}
